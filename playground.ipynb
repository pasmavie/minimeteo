{
 "cells": [
  {
   "cell_type": "code",
   "execution_count": 1,
   "id": "2143be19-2153-4df4-8a53-c024371bd2d8",
   "metadata": {},
   "outputs": [],
   "source": [
    "from selenium import webdriver\n",
    "from webdriver_manager.chrome import ChromeDriverManager\n",
    "\n",
    "driver = webdriver.Chrome(ChromeDriverManager().install())"
   ]
  },
  {
   "cell_type": "code",
   "execution_count": 2,
   "id": "225de8fa-b760-4e10-a283-82501e67da84",
   "metadata": {},
   "outputs": [],
   "source": [
    "driver.get(url=\"https://www.lamma.rete.toscana.it/mare/modelli/vento-mare.php?area=T\")"
   ]
  },
  {
   "cell_type": "code",
   "execution_count": 3,
   "id": "0cc63518-e879-4512-bd29-81aec3b3dfd2",
   "metadata": {},
   "outputs": [
    {
     "data": {
      "text/plain": [
       "selenium.webdriver.chrome.webdriver.WebDriver"
      ]
     },
     "execution_count": 3,
     "metadata": {},
     "output_type": "execute_result"
    }
   ],
   "source": [
    "type(driver)"
   ]
  },
  {
   "cell_type": "code",
   "execution_count": 4,
   "id": "24571950-6726-4022-a2c7-0010cb711dd8",
   "metadata": {},
   "outputs": [],
   "source": [
    "import time\n",
    "import pathlib\n",
    "import os\n",
    "\n",
    "DATA_DIR = pathlib.Path(os.getcwd()) / \"DATA\""
   ]
  },
  {
   "cell_type": "code",
   "execution_count": 5,
   "id": "6c1e929f-7692-4fcd-be9c-3bc44bdc6c31",
   "metadata": {},
   "outputs": [],
   "source": [
    "from selenium.webdriver.support.ui import Select\n",
    "\n",
    "area_dropdown = Select(driver.find_element_by_id('aree'))\n",
    "available_areas = [o.get_attribute('value') for o in area_dropdown.options]"
   ]
  },
  {
   "cell_type": "code",
   "execution_count": null,
   "id": "df758f81-9fe7-4a3a-8eeb-0994173a9611",
   "metadata": {},
   "outputs": [],
   "source": [
    "for i in available_areas:\n",
    "    area_dropdown.select_by_value(i)\n",
    "    selected_area_str = area_dropdown.first_selected_option.text.replace(' ', '')\n",
    "    save_path_root = DATA_DIR / selected_area_str\n",
    "    maptype_dropdown = Select(driver.find_element_by_id('campi'))\n",
    "    available_maptypes = [o.get_attribute('value') for o in maptype_dropdown.options]\n",
    "    for mt in available_maptypes:\n",
    "        selected_maptype_str = maptype_dropdown.first_selected_option.text.replace(' ', '')    \n",
    "        save_path_dir = save_path_root / selected_maptype_str\n",
    "        os.makedirs(save_path_dir, exist_ok=True)\n",
    "        time_dropdown = Select(driver.find_element_by_id('display-data'))\n",
    "        available_times = [o.get_attribute('value') for o in time_dropdown.options]\n",
    "        for t in available_times:\n",
    "            time_dropdown.select_by_value(t)\n",
    "            selected_time_str = time_dropdown.first_selected_option.text.replace(' ', '')\n",
    "            save_path = save_path_dir / f'{selected_area_str}_{selected_time_str}.png'\n",
    "            driver.save_screenshot(str(save_path.resolve()))\n",
    "            break"
   ]
  },
  {
   "cell_type": "code",
   "execution_count": 8,
   "id": "b7b1b20d-0e79-41d6-83d7-62863db00761",
   "metadata": {},
   "outputs": [],
   "source": [
    "driver.find_element_by_id('zipfile').click()"
   ]
  },
  {
   "cell_type": "code",
   "execution_count": null,
   "id": "bbd85bba-6296-4234-8aab-675b410bcf40",
   "metadata": {},
   "outputs": [],
   "source": [
    "str(save_path.resolve())"
   ]
  },
  {
   "cell_type": "code",
   "execution_count": null,
   "id": "2727abac-536f-413f-9667-3c51383a2305",
   "metadata": {},
   "outputs": [],
   "source": [
    "def select_and_cycle(element_id: str):\n",
    "    dropdown = Select(driver.find_element_by_id(element_id)) \n",
    "    for o in dropdown.options:\n",
    "        o.get_attribute('value')\n",
    "        dropdown.select_by_value(i)"
   ]
  }
 ],
 "metadata": {
  "kernelspec": {
   "display_name": "Python 3 (ipykernel)",
   "language": "python",
   "name": "python3"
  },
  "language_info": {
   "codemirror_mode": {
    "name": "ipython",
    "version": 3
   },
   "file_extension": ".py",
   "mimetype": "text/x-python",
   "name": "python",
   "nbconvert_exporter": "python",
   "pygments_lexer": "ipython3",
   "version": "3.10.4"
  }
 },
 "nbformat": 4,
 "nbformat_minor": 5
}
